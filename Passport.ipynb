{
 "cells": [
  {
   "cell_type": "code",
   "execution_count": 6,
   "metadata": {},
   "outputs": [
    {
     "name": "stdout",
     "output_type": "stream",
     "text": [
      "Nationality:UTO\n",
      "Given Name:ANNA KMARIAK   K KX X\n",
      "Surname:ERIKSSON\n",
      "Passport Type:P<\n",
      "Date of Birth:740812\n",
      "ID Number:ZE184226B<<<<<\n",
      "Gender:F\n",
      "Expiration Date:120415\n"
     ]
    }
   ],
   "source": [
    "from passporteye import read_mrz\n",
    "# Process image\n",
    "mrz = read_mrz(\"Passport4.png\")\n",
    "\n",
    "# Obtain image\n",
    "mrz_data = mrz.to_dict()\n",
    "\n",
    "print('Nationality:'+ mrz_data['nationality'])\n",
    "print('Given Name:'+ mrz_data['names'])\n",
    "print('Surname:'+ mrz_data['surname'])\n",
    "print('Passport Type:'+ mrz_data['type'])\n",
    "print('Date of Birth:'+ mrz_data['date_of_birth'])\n",
    "print('ID Number:'+ mrz_data['personal_number'])\n",
    "print('Gender:'+mrz_data['sex'])\n",
    "print('Expiration Date:'+ mrz_data['expiration_date'])\n",
    "print(mrz_data,file=open('Passport.xlsx',\"a\"))"
   ]
  },
  {
   "cell_type": "code",
   "execution_count": 8,
   "metadata": {},
   "outputs": [],
   "source": [
    "import numpy as np\n",
    "import cv2\n",
    "import matplotlib.pyplot as plt\n",
    "import pytesseract\n",
    "import re\n",
    "import cv2\n",
    "from pytesseract import Output\n",
    "import seaborn as sns\n",
    "import warnings\n",
    "import pandas as pd"
   ]
  },
  {
   "cell_type": "code",
   "execution_count": 18,
   "metadata": {},
   "outputs": [
    {
     "name": "stdout",
     "output_type": "stream",
     "text": [
      "Eee Ee\n",
      "\n",
      "SxS vERSE ERerOMI Suu\n",
      "AST Vs A ieee\n",
      "YEN Ve ee 760841560\n",
      "SPieLEW seecineN\n",
      "hiseih 20E\n",
      "\n",
      "‘BRITISH! OVERSEAS TERRITORIES\n",
      "\n",
      "A Se seer 28\n",
      "\n",
      "po\" sr WeLena\n",
      "\n",
      "40 Wak’ /NARS’15 ‘ST”HELENA\n",
      "\n",
      "“ee Jin 25 oe\n",
      "\n",
      "P<GBRST<HELENA<SPECINENC<ANGELA<ZOE<<<<<<<<<\n",
      "7606415605GR8609117F2503103<<<<c<<<<<<<<<08\n",
      "\n",
      "\n"
     ]
    }
   ],
   "source": [
    "extracted_text = pytesseract.image_to_string(\"Passport2.jpg\")\n",
    "print(extracted_text)"
   ]
  },
  {
   "cell_type": "code",
   "execution_count": 28,
   "metadata": {},
   "outputs": [
    {
     "data": {
      "text/plain": [
       "['Eee Ee',\n",
       " 'SxS vERSE ERerOMI Suu',\n",
       " 'AST Vs A ieee',\n",
       " 'YEN Ve ee 760841560',\n",
       " 'SPieLEW seecineN',\n",
       " 'hiseih 20E',\n",
       " '‘BRITISH! OVERSEAS TERRITORIES',\n",
       " 'A Se seer 28',\n",
       " 'po\" sr WeLena',\n",
       " '40 Wak’ /NARS’15 ‘ST”HELENA',\n",
       " '“ee Jin 25 oe',\n",
       " 'P<GBRST<HELENA<SPECINENC<ANGELA<ZOE<<<<<<<<<',\n",
       " '7606415605GR8609117F2503103<<<<c<<<<<<<<<08']"
      ]
     },
     "execution_count": 28,
     "metadata": {},
     "output_type": "execute_result"
    }
   ],
   "source": [
    "extracted_text = extracted_text.strip().split(\"\\n\")\n",
    "extracted_text = [ele for ele in extracted_text if ele.strip()] # removing blank spaces\n",
    "extracted_text"
   ]
  },
  {
   "cell_type": "code",
   "execution_count": 30,
   "metadata": {},
   "outputs": [
    {
     "name": "stdout",
     "output_type": "stream",
     "text": [
      "7606415605GR8609117F2503103<<<<c<<<<<<<<<08\n"
     ]
    }
   ],
   "source": [
    "print(extracted_text[12])"
   ]
  },
  {
   "cell_type": "code",
   "execution_count": 31,
   "metadata": {},
   "outputs": [
    {
     "name": "stdout",
     "output_type": "stream",
     "text": [
      "Nationality:GBR\n",
      "Given Name:ANGELA ZOE\n",
      "Surname:ST HELENA SPECIMEN\n",
      "Passport Type:P<\n",
      "Date of Birth:880911\n",
      "ID Number:7606415605GR8609117F2503103<<<<c<<<<<<<<<08\n",
      "Gender:F\n",
      "Expiration Date:250310\n"
     ]
    }
   ],
   "source": [
    "from passporteye import read_mrz\n",
    "# Process image\n",
    "mrz = read_mrz(\"Passport2.jpg\")\n",
    "\n",
    "# Obtain image\n",
    "mrz_data = mrz.to_dict()\n",
    "\n",
    "print('Nationality:'+ mrz_data['nationality'])\n",
    "print('Given Name:'+ mrz_data['names'])\n",
    "print('Surname:'+ mrz_data['surname'])\n",
    "print('Passport Type:'+ mrz_data['type'])\n",
    "print('Date of Birth:'+ mrz_data['date_of_birth'])\n",
    "print('ID Number:'+ (extracted_text[12]))\n",
    "print('Gender:'+mrz_data['sex'])\n",
    "print('Expiration Date:'+ mrz_data['expiration_date'])\n",
    "print(mrz_data,file=open('Passport.xlsx',\"a\"))"
   ]
  }
 ],
 "metadata": {
  "kernelspec": {
   "display_name": "Python 3",
   "language": "python",
   "name": "python3"
  },
  "language_info": {
   "codemirror_mode": {
    "name": "ipython",
    "version": 3
   },
   "file_extension": ".py",
   "mimetype": "text/x-python",
   "name": "python",
   "nbconvert_exporter": "python",
   "pygments_lexer": "ipython3",
   "version": "3.11.2"
  },
  "orig_nbformat": 4
 },
 "nbformat": 4,
 "nbformat_minor": 2
}
